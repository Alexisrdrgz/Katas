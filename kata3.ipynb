{
 "cells": [
  {
   "cell_type": "markdown",
   "metadata": {},
   "source": [
    "# Ejercicio: Uso de operadores and y or"
   ]
  },
  {
   "cell_type": "code",
   "execution_count": 13,
   "metadata": {},
   "outputs": [
    {
     "name": "stdout",
     "output_type": "stream",
     "text": [
      "!Advertencia asteroide acercandose a la tierra!\n"
     ]
    }
   ],
   "source": [
    "\n",
    "asteroide = 49\n",
    "if  asteroide > 25:\n",
    "    print(\"!Advertencia asteroide acercandose a la tierra!\")\n",
    "else:\n",
    "    print(\"Falsa alarma\")"
   ]
  },
  {
   "cell_type": "code",
   "execution_count": null,
   "metadata": {},
   "outputs": [],
   "source": [
    "asteroide = 19\n",
    "if asteroide > 20:\n",
    "    print(\"Rayo de luz viendose desde la tierra\")\n",
    "elif asteroide == 20:\n",
    "    print(\"Rayo de luz viendose desde la tierra\")\n",
    "else:\n",
    "    print(\"Falsa alarma\")"
   ]
  },
  {
   "cell_type": "code",
   "execution_count": null,
   "metadata": {},
   "outputs": [],
   "source": [
    "velocidad_asteroide = 25\n",
    "tamaño_asteroide = 40\n",
    "if velocidad_asteroide > 25 and tamaño_asteroide > 25:\n",
    "    print(\"!Advertencia asteroide acercandose a la tierra!\")\n",
    "elif velocidad_asteroide >= 20:\n",
    "    print(\"Rayo de luz viendose desde la tierra\")\n",
    "elif tamaño_asteroide < 25:\n",
    "    print(\"Falsa alarma\")\n",
    "else: \n",
    "    print(\"Falsa alarma\")"
   ]
  },
  {
   "cell_type": "markdown",
   "metadata": {},
   "source": []
  }
 ],
 "metadata": {
  "interpreter": {
   "hash": "b89b5cfaba6639976dc87ff2fec6d58faec662063367e2c229c520fe71072417"
  },
  "kernelspec": {
   "display_name": "Python 3.10.2 64-bit",
   "language": "python",
   "name": "python3"
  },
  "language_info": {
   "codemirror_mode": {
    "name": "ipython",
    "version": 3
   },
   "file_extension": ".py",
   "mimetype": "text/x-python",
   "name": "python",
   "nbconvert_exporter": "python",
   "pygments_lexer": "ipython3",
   "version": "3.10.2"
  },
  "orig_nbformat": 4
 },
 "nbformat": 4,
 "nbformat_minor": 2
}
