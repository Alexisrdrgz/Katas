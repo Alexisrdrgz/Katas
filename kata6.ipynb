{
 "cells": [
  {
   "cell_type": "markdown",
   "metadata": {},
   "source": [
    "# Ejercicio 1 - Crear y usar listas de Python\n"
   ]
  },
  {
   "cell_type": "code",
   "execution_count": null,
   "metadata": {},
   "outputs": [],
   "source": [
    "# Crear lista de ocho planetas\n",
    "planets = ['Tierra', 'Marte', 'Mercurio', 'Urano', 'Neptuno', 'Saturno', 'Jupiter', \"Venus\"]\n",
    "print(\"Hay\", len(planets), \"planetas\")\n",
    "\n",
    "# Agregamos a pluton\n",
    "planets.append('Pluton')\n",
    "print(planets[-1], 'es el ultimo planeta')"
   ]
  },
  {
   "cell_type": "markdown",
   "metadata": {},
   "source": [
    "# Ejercicio 2 - Trabajando con datos de una lista\n"
   ]
  },
  {
   "cell_type": "code",
   "execution_count": null,
   "metadata": {},
   "outputs": [],
   "source": [
    "# Crear lista de ocho planetas\n",
    "planets = ['Tierra', 'Marte', 'Mercurio', 'Neptuno', 'Saturno', 'Jupiter', \"Venus\"]\n",
    "\n",
    "# Nombre de planeta\n",
    "user_planet = input('Porfavor agrega el nombre del planeta (Con letra mayuscula al inicio)')\n",
    "\n",
    "# Busca planeta\n",
    "planet_index = planets.index(user_planet)\n",
    "\n",
    "# Muestra planetas mas cercanos al sol\n",
    "print('Estos planetas son mas cercanos al sol que: ' + user_planet)\n",
    "print(planets[0:planet_index])\n",
    "\n",
    "# Muestra planetas lejanos al sol\n",
    "print('Estos planetas son mas lejanos al sol que: ' + user_planet)\n",
    "print(planets[planet_index + 1:])"
   ]
  }
 ],
 "metadata": {
  "language_info": {
   "name": "python"
  },
  "orig_nbformat": 4
 },
 "nbformat": 4,
 "nbformat_minor": 2
}
