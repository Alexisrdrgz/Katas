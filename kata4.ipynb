{
 "cells": [
  {
   "cell_type": "markdown",
   "metadata": {},
   "source": [
    "# Ejercicio 1"
   ]
  },
  {
   "cell_type": "code",
   "execution_count": null,
   "metadata": {},
   "outputs": [],
   "source": [
    "text = \"\"\"Interesting facts about the Moon. The Moon is Earth's only satellite. There are several interesting facts about the Moon and how it affects life here on Earth. On average, the Moon moves 4cm away from the Earth every year. This yearly drift is not significant enough to\"\"\"\n",
    "text_parts = text.split('. ')\n",
    "text_parts\n",
    "\n",
    "#Palabras clave\n",
    "keywords= [\"average\", \"temperature\", \"distance\"]\n",
    "\n",
    "#Ciclo for para recorrer la cadena\n",
    "for sentence in text_parts:\n",
    "    for keywords in keywords:\n",
    "        if keywords in sentence:\n",
    "            print(sentence)\n",
    "            break\n",
    "#Ciclo para Celsius\n",
    "for sentence in text_parts:\n",
    "    for keywords in keywords:\n",
    "        if keywords in sentence:\n",
    "            print(sentence.replace('C ', 'Celsius '))"
   ]
  },
  {
   "cell_type": "markdown",
   "metadata": {},
   "source": [
    "# Ejercicio 2 "
   ]
  },
  {
   "cell_type": "code",
   "execution_count": null,
   "metadata": {},
   "outputs": [],
   "source": [
    "nombre = \"Marte\"\n",
    "gravedad = 0.00143 # in kms\n",
    "planeta = \"Ganimedes\"\n",
    "\n",
    "# Creamos titulo\n",
    "title = f'Datos de gravedad sobre {nombre}'\n",
    "print(title)\n",
    "\n",
    "# Creamos plantilla\n",
    "hechos = f\"\"\"{'-'*80}\n",
    "Nombre del planeta: {planeta}\n",
    "Gravedad en {nombre}: {gravedad * 1000} m/s2\n",
    "\"\"\"\n",
    "\n",
    "#Union de ambas cadenas\n",
    "template = f\"\"\"{title.title()}\n",
    "{hechos}\n",
    "\"\"\"\n",
    "print(hechos)\n",
    "\n",
    "#Nuevos datos\n",
    "planeta = 'Marte'\n",
    "gravedad = 0.00143 \n",
    "planeta = \"Ganimedes\"\n",
    "print(hechos)\n",
    "\n",
    "new_template = \"\"\"Datos de Gravedad sobre: {nombre}\n",
    "--------------------------------------------------------------------\n",
    "Nombre del planeta: {planeta}\n",
    "Gravedad en {nombre}: {gravedad} m/s2\n",
    "\"\"\"\n",
    "print(new_template.format(nombre=nombre, planeta=planeta, gravedad=gravedad*1000))"
   ]
  },
  {
   "cell_type": "markdown",
   "metadata": {},
   "source": []
  }
 ],
 "metadata": {
  "language_info": {
   "name": "python"
  },
  "orig_nbformat": 4
 },
 "nbformat": 4,
 "nbformat_minor": 2
}
